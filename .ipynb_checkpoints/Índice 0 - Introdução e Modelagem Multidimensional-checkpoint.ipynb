{
 "cells": [
  {
   "cell_type": "markdown",
   "id": "411d2e88",
   "metadata": {},
   "source": [
    "## Modelagem Multidimensional"
   ]
  },
  {
   "cell_type": "markdown",
   "id": "cd39bc6c",
   "metadata": {},
   "source": [
    "https://drive.google.com/file/d/1EpvM5lHH9cxgvWudxWAIJTckMo5qQ4I2/view?usp=sharing"
   ]
  }
 ],
 "metadata": {
  "kernelspec": {
   "display_name": "Python 3",
   "language": "python",
   "name": "python3"
  },
  "language_info": {
   "codemirror_mode": {
    "name": "ipython",
    "version": 3
   },
   "file_extension": ".py",
   "mimetype": "text/x-python",
   "name": "python",
   "nbconvert_exporter": "python",
   "pygments_lexer": "ipython3",
   "version": "3.8.8"
  }
 },
 "nbformat": 4,
 "nbformat_minor": 5
}
