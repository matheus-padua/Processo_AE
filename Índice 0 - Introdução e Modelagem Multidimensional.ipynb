{
 "cells": [
  {
   "cell_type": "markdown",
   "id": "411d2e88",
   "metadata": {},
   "source": [
    "## Modelagem Multidimensional"
   ]
  },
  {
   "cell_type": "markdown",
   "id": "cd39bc6c",
   "metadata": {},
   "source": [
    "Modelo Atual:\\\n",
    "https://drive.google.com/file/d/1EpvM5lHH9cxgvWudxWAIJTckMo5qQ4I2/view?usp=sharing"
   ]
  },
  {
   "cell_type": "markdown",
   "id": "08496b22",
   "metadata": {},
   "source": [
    "Modelo Proposto:\\\n",
    "https://drive.google.com/file/d/1mHiw-gQv_QMwjv4VERn-lrpv2_PlX--E/view?usp=sharing"
   ]
  },
  {
   "cell_type": "markdown",
   "id": "59b1d6a3",
   "metadata": {},
   "source": [
    "- **Unificação das tabelas dimensão Categoria e Subcategoria com a tabela de Produtos**\n",
    "Manteríamos em uma única tabela informações gerais de produtos, como descrição do produto,categoria,subcategoria e percentual de comissão do parceiro \n",
    "\n",
    "\n",
    "\n",
    "- **Unificação das tabelas dimensão Cidade e Estado com a tabela de Filiais**\n",
    "Manteríamos em uma única tabela informações de Filiais, como descrição da filial,nome cidade e nome estado."
   ]
  }
 ],
 "metadata": {
  "kernelspec": {
   "display_name": "Python 3",
   "language": "python",
   "name": "python3"
  },
  "language_info": {
   "codemirror_mode": {
    "name": "ipython",
    "version": 3
   },
   "file_extension": ".py",
   "mimetype": "text/x-python",
   "name": "python",
   "nbconvert_exporter": "python",
   "pygments_lexer": "ipython3",
   "version": "3.8.8"
  }
 },
 "nbformat": 4,
 "nbformat_minor": 5
}
