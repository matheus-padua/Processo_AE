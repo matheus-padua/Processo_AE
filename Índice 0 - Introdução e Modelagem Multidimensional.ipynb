{
 "cells": [
  {
   "cell_type": "markdown",
   "id": "ae928d5a",
   "metadata": {},
   "source": [
    "# Desafio Luiza Labs | Analytics Engineer - Matheus Pádua Oliveira"
   ]
  },
  {
   "cell_type": "markdown",
   "id": "068ea8e7",
   "metadata": {},
   "source": [
    " Para conduzir o Desafio, separarei em uma introdução(com modelagem multidimensional) e três índices:\n",
    "\n",
    ">**Modelagem Multidimensional**\n",
    "\n",
    ">1º - ETL e Modelagem - Python(Pandas) e SQL(BigQuery)\n",
    "\n",
    ">2º - Proposta Técnica - Propor Métricas e soluções para área de negócio\n",
    "\n",
    ">3º - Visualização dos Dados"
   ]
  },
  {
   "cell_type": "markdown",
   "id": "411d2e88",
   "metadata": {},
   "source": [
    "## Modelagem Multidimensional"
   ]
  },
  {
   "cell_type": "markdown",
   "id": "cd39bc6c",
   "metadata": {},
   "source": [
    "https://drive.google.com/file/d/1EpvM5lHH9cxgvWudxWAIJTckMo5qQ4I2/view?usp=sharing"
   ]
  }
 ],
 "metadata": {
  "kernelspec": {
   "display_name": "Python 3",
   "language": "python",
   "name": "python3"
  },
  "language_info": {
   "codemirror_mode": {
    "name": "ipython",
    "version": 3
   },
   "file_extension": ".py",
   "mimetype": "text/x-python",
   "name": "python",
   "nbconvert_exporter": "python",
   "pygments_lexer": "ipython3",
   "version": "3.8.8"
  }
 },
 "nbformat": 4,
 "nbformat_minor": 5
}
