{
 "cells": [
  {
   "cell_type": "markdown",
   "id": "85c22bcc",
   "metadata": {},
   "source": [
    "# 3º - Visualização de Dados"
   ]
  },
  {
   "cell_type": "markdown",
   "id": "89e48e47",
   "metadata": {},
   "source": [
    "**Dataviz usando o Google Data Studio** \\\n",
    "https://datastudio.google.com/reporting/64ab1a43-b2f2-40d7-a00d-1fd1e1a10971"
   ]
  },
  {
   "cell_type": "code",
   "execution_count": 1,
   "id": "8078279d",
   "metadata": {},
   "outputs": [],
   "source": [
    "#Plotando Prévia do Dashboard\n",
    "class PDF(object):\n",
    "  def __init__(self, pdf, size=(200,200)):\n",
    "    self.pdf = pdf\n",
    "    self.size = size\n",
    "\n",
    "  def _repr_html_(self):\n",
    "    return '<iframe src={0} width={1[0]} height={1[1]}></iframe>'.format(self.pdf, self.size)\n",
    "\n",
    "  def _repr_latex_(self):\n",
    "    return r'\\includegraphics[width=1.0\\textwidth]{{{0}}}'.format(self.pdf)"
   ]
  },
  {
   "cell_type": "code",
   "execution_count": 2,
   "id": "de3deb1b",
   "metadata": {},
   "outputs": [
    {
     "data": {
      "text/html": [
       "<iframe src=dash.pdf width=800 height=800></iframe>"
      ],
      "text/latex": [
       "\\includegraphics[width=1.0\\textwidth]{dash.pdf}"
      ],
      "text/plain": [
       "<__main__.PDF at 0x1fbc2701460>"
      ]
     },
     "execution_count": 2,
     "metadata": {},
     "output_type": "execute_result"
    }
   ],
   "source": [
    "PDF('Dash.pdf',size=(800,800))"
   ]
  }
 ],
 "metadata": {
  "kernelspec": {
   "display_name": "Python 3",
   "language": "python",
   "name": "python3"
  },
  "language_info": {
   "codemirror_mode": {
    "name": "ipython",
    "version": 3
   },
   "file_extension": ".py",
   "mimetype": "text/x-python",
   "name": "python",
   "nbconvert_exporter": "python",
   "pygments_lexer": "ipython3",
   "version": "3.8.8"
  }
 },
 "nbformat": 4,
 "nbformat_minor": 5
}
