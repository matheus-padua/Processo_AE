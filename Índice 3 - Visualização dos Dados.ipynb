{
 "cells": [
  {
   "cell_type": "markdown",
   "id": "ae928d5a",
   "metadata": {},
   "source": [
    "# Desafio Luiza Labs | Analytics Engineer"
   ]
  },
  {
   "cell_type": "markdown",
   "id": "068ea8e7",
   "metadata": {},
   "source": [
    " Para conduzir o Desafio, separarei em uma introdução(com modelagem multidimensional) e três índices:\n",
    "\n",
    ">Modelagem Multidimensional\n",
    "\n",
    ">1º - ETL e Modelagem - Python(Pandas) e SQL(BigQuery)\n",
    "\n",
    ">**2º - Proposta Técnica - Propor Métricas e soluções para área de negócio**\n",
    "\n",
    ">3º - Visualização dos Dados"
   ]
  },
  {
   "cell_type": "markdown",
   "id": "85c22bcc",
   "metadata": {},
   "source": [
    "# 2º - Proposta Técnica - Propor Métricas e soluções para área de negócio"
   ]
  },
  {
   "cell_type": "markdown",
   "id": "42e1a291",
   "metadata": {},
   "source": [
    "## Python Pandas"
   ]
  },
  {
   "cell_type": "markdown",
   "id": "bfdde2a3",
   "metadata": {},
   "source": [
    "Iniciamos importando as Bibliotecas a serem utilizadas:"
   ]
  },
  {
   "cell_type": "code",
   "execution_count": 1,
   "id": "5c38a3ee",
   "metadata": {},
   "outputs": [],
   "source": [
    "import pandas as pd"
   ]
  },
  {
   "cell_type": "markdown",
   "id": "5e7dd7d1",
   "metadata": {},
   "source": [
    "Lendo dataset finalizado no índice anterior"
   ]
  },
  {
   "cell_type": "code",
   "execution_count": 7,
   "id": "6c9153aa",
   "metadata": {},
   "outputs": [],
   "source": [
    "df = pd.read_csv(\"C:/Users/Magalu/Downloads/Processo AE/Matheus/arquivos/dataset_final.csv\")"
   ]
  },
  {
   "cell_type": "markdown",
   "id": "b18c981b",
   "metadata": {},
   "source": [
    "## SQL/BigQuery"
   ]
  },
  {
   "cell_type": "code",
   "execution_count": null,
   "id": "240f66b9",
   "metadata": {},
   "outputs": [],
   "source": []
  }
 ],
 "metadata": {
  "kernelspec": {
   "display_name": "Python 3",
   "language": "python",
   "name": "python3"
  },
  "language_info": {
   "codemirror_mode": {
    "name": "ipython",
    "version": 3
   },
   "file_extension": ".py",
   "mimetype": "text/x-python",
   "name": "python",
   "nbconvert_exporter": "python",
   "pygments_lexer": "ipython3",
   "version": "3.8.8"
  }
 },
 "nbformat": 4,
 "nbformat_minor": 5
}
